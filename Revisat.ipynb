{
 "cells": [
  {
   "cell_type": "code",
   "execution_count": 346,
   "id": "7cfde7b5",
   "metadata": {},
   "outputs": [
    {
     "name": "stdout",
     "output_type": "stream",
     "text": [
      "Collecting openpyxl\n",
      "  Downloading openpyxl-3.0.10-py2.py3-none-any.whl (242 kB)\n",
      "     -------------------------------------- 242.1/242.1 kB 4.9 MB/s eta 0:00:00\n",
      "Collecting et-xmlfile\n",
      "  Downloading et_xmlfile-1.1.0-py3-none-any.whl (4.7 kB)\n",
      "Installing collected packages: et-xmlfile, openpyxl\n",
      "Successfully installed et-xmlfile-1.1.0 openpyxl-3.0.10\n"
     ]
    }
   ],
   "source": [
    "# Install a pip package in the current Jupyter kernel\n",
    "import sys\n",
    "!{sys.executable} -m pip install openpyxl"
   ]
  },
  {
   "cell_type": "code",
   "execution_count": 15,
   "id": "31e39350",
   "metadata": {},
   "outputs": [],
   "source": [
    "from pyDataverse.api import NativeApi, DataAccessApi\n",
    "from pyDataverse.models import Dataverse\n",
    "import pandas as pd\n",
    "\n",
    "### Parametros\n",
    "DOI = 'doi:10.34810/data150' # DOI a REVISAR\n",
    "INSTITUCION = \"(Universitat de Barcelona\"# Nom de la Institució\n",
    "cognom_nome = True\n",
    "DESCRIPTION = 'True'\n",
    "ERROR_INGESTA = 'False'\n",
    "fitver_readme = 'Té dos readme'\n",
    "FUJI_Calf = 56\n",
    "#########\n",
    "base_url = 'https://dataverse.csuc.cat'\n",
    "\n",
    "api = NativeApi(base_url,'a0f549c3-59c2-4aab-be62-803df461f630')\n",
    "\n",
    "\n",
    "dataset = api.get_dataset(DOI)\n",
    "files_list = len(dataset.json()['data']['latestVersion']['metadataBlocks']['citation']['fields'])\n",
    "\n",
    "Metadata_min_req = ['title', 'author', 'datasetContact', 'dsDescription', 'keyword', 'subject', 'kindOfData']\n",
    "\n",
    "Metada_dataset = []\n",
    "\n",
    "for i in range(files_list):\n",
    "    Metada_dataset.append(dataset.json()['data']['latestVersion']['metadataBlocks']['citation']['fields'][i]['typeName'])\n",
    "    \n"
   ]
  },
  {
   "cell_type": "code",
   "execution_count": 16,
   "id": "9e09a1cc-907f-4e40-8803-d329356677f2",
   "metadata": {},
   "outputs": [],
   "source": [
    "typeName = dataset.json()['data']['latestVersion']['metadataBlocks']['citation']['fields'][0]['typeName']\n",
    "title_typeName = []\n",
    "if (typeName == 'title'):\n",
    "    title_typeName.append(dataset.json()['data']['latestVersion']['metadataBlocks']['citation']['fields'][0]['value'])\n",
    "else:\n",
    "    print(\"Error\")"
   ]
  },
  {
   "cell_type": "code",
   "execution_count": 17,
   "id": "9ed413b6-d2f1-49b8-8887-da03bffd9e39",
   "metadata": {},
   "outputs": [
    {
     "name": "stdout",
     "output_type": "stream",
     "text": [
      "Conté les metadades mínimes obligatòries: False\n"
     ]
    }
   ],
   "source": [
    "Min_medata = set(Metadata_min_req).issubset(Metada_dataset)\n",
    "print(\"Conté les metadades mínimes obligatòries:\",set(Metadata_min_req).issubset(Metada_dataset))"
   ]
  },
  {
   "cell_type": "code",
   "execution_count": 18,
   "id": "667b5c47-7998-4171-ab95-4c29188c0259",
   "metadata": {},
   "outputs": [
    {
     "data": {
      "text/plain": [
       "['title',\n",
       " 'author',\n",
       " 'datasetContact',\n",
       " 'dsDescription',\n",
       " 'subject',\n",
       " 'keyword',\n",
       " 'publication',\n",
       " 'depositor',\n",
       " 'dateOfDeposit']"
      ]
     },
     "execution_count": 18,
     "metadata": {},
     "output_type": "execute_result"
    }
   ],
   "source": [
    "Metada_dataset"
   ]
  },
  {
   "cell_type": "code",
   "execution_count": 19,
   "id": "4e05cc38",
   "metadata": {},
   "outputs": [
    {
     "name": "stdout",
     "output_type": "stream",
     "text": [
      "No es replicacion de articulo\n"
     ]
    }
   ],
   "source": [
    "title = dataset.json()['data']['latestVersion']['metadataBlocks']['citation']['fields'][0]['value']\n",
    "#title = 'Replication Data for: United Nations Peacekeeping and Terrorism: Short-Term Risks and Long-Term Benefits'\n",
    "title_replication = ' '.join(title.split()[:3])\n",
    "if title_replication == 'Replication Data for:':\n",
    "    print(\"Title of dataset: \", title)\n",
    "else:\n",
    "    print(\"No es replicacion de articulo\")"
   ]
  },
  {
   "cell_type": "code",
   "execution_count": 20,
   "id": "0b27f7c6",
   "metadata": {},
   "outputs": [
    {
     "name": "stdout",
     "output_type": "stream",
     "text": [
      "Autores: ['Aguiló-Aguayo, Ingrid', 'Abadias, Maribel']\n",
      "Total de autores: 2\n"
     ]
    }
   ],
   "source": [
    "## Autors by cognom and nom\n",
    "total_autor = len(dataset.json()['data']['latestVersion']['metadataBlocks']['citation']['fields'][1]['value'])\n",
    "autors = []\n",
    "for i in range(total_autor):\n",
    "    autors.append(dataset.json()['data']['latestVersion']['metadataBlocks']['citation']['fields'][1]['value'][i]['authorName']['value'])\n",
    "\n",
    "print(\"Autores:\", autors)\n",
    "print(\"Total de autores:\", len(autors))"
   ]
  },
  {
   "cell_type": "code",
   "execution_count": 21,
   "id": "35932c19-e4f3-48fb-aae8-e7cf8119e745",
   "metadata": {},
   "outputs": [
    {
     "name": "stdout",
     "output_type": "stream",
     "text": [
      "dict_keys(['authorName', 'authorAffiliation', 'authorIdentifierScheme', 'authorIdentifier']) 0\n",
      "dict_keys(['authorName', 'authorAffiliation', 'authorIdentifierScheme', 'authorIdentifier']) 1\n",
      "IRTA\n",
      "IRTA\n",
      "Estan afiliados a la institucion: False\n"
     ]
    }
   ],
   "source": [
    "## Afilicion a institució\n",
    "authorAffiliation = []\n",
    "\n",
    "index = []\n",
    "afilicion_universidad =[]\n",
    "\n",
    "for i in range(total_autor):\n",
    "    authorAffiliation.append(dataset.json()['data']['latestVersion']['metadataBlocks']['citation']['fields'][1]['value'][i].keys())\n",
    "for j in range(len(authorAffiliation)):\n",
    "    if (\"authorAffiliation\" in list(authorAffiliation[j])) == True:\n",
    "        print(authorAffiliation[j],j)\n",
    "        index.append(j)\n",
    "for x in index:\n",
    "    uni = dataset.json()['data']['latestVersion']['metadataBlocks']['citation']['fields'][1]['value'][j][\"authorAffiliation\"]['value']\n",
    "    afilicion_universidad.append(uni == INSTITUCION)\n",
    "        \n",
    "    \n",
    "    print(dataset.json()['data']['latestVersion']['metadataBlocks']['citation']['fields'][1]['value'][x][\"authorAffiliation\"]['value'])\n",
    "\n",
    "print(\"Estan afiliados a la institucion:\", afilicion_universidad[0])"
   ]
  },
  {
   "cell_type": "code",
   "execution_count": 452,
   "id": "e70f8fea",
   "metadata": {},
   "outputs": [
    {
     "data": {
      "text/plain": [
       "True"
      ]
     },
     "execution_count": 452,
     "metadata": {},
     "output_type": "execute_result"
    }
   ],
   "source": [
    "## ORCIDS de autores\n",
    "ddois = []\n",
    "for i in range(total_autor):\n",
    "    dois = 'authorIdentifier' in list(dataset.json()['data']['latestVersion']['metadataBlocks']['citation']['fields'][1]['value'][i].keys())\n",
    "    if dois == True:\n",
    "            ddois.append(dois)\n",
    "            \n",
    "    \n",
    "            #print('authorIdentifier' in list(dataset.json()['data']['latestVersion']['metadataBlocks']['citation']['fields'][2]['value'][i].keys()))\n",
    "#buscando_dois = dataset.json()['data']['latestVersion']['metadataBlocks']['citation']['fields'][2]['value'][1]\n",
    "\n",
    "#print(list(buscando_dois.keys()))\n",
    "ddois[0]"
   ]
  },
  {
   "cell_type": "code",
   "execution_count": 451,
   "id": "71008bf4-df03-4ad5-9156-70f5c08915ff",
   "metadata": {},
   "outputs": [
    {
     "data": {
      "text/plain": [
       "['Chemistry']"
      ]
     },
     "execution_count": 451,
     "metadata": {},
     "output_type": "execute_result"
    }
   ],
   "source": [
    "#num_files = len(dataset.json()['data']['latestVersion']['files'])\n",
    "#fordataset.json()['data']['latestVersion']['files'][i]['values']\n",
    "\n",
    "dataset.json()['data']['latestVersion']['metadataBlocks']['citation']['fields'][4]['value']"
   ]
  },
  {
   "cell_type": "code",
   "execution_count": 370,
   "id": "3e938024-dd60-4377-9a10-b4372c356256",
   "metadata": {},
   "outputs": [],
   "source": [
    "df = pd.DataFrame(columns=['Variable','Valor'])\n",
    "df.loc[0,'Variable'] = \"Dataset DOI\"\n",
    "df.loc[0,'Valor'] = DOI\n",
    "\n",
    "df.loc[1,'Variable'] = \"Títol del dataset\"\n",
    "df.loc[1,'Valor'] = title_typeName[0]\n",
    "\n",
    "df.loc[2,'Variable'] = \"Institució\"\n",
    "df.loc[2,'Valor'] = INSTITUCION\n",
    "\n",
    "df.loc[3,'Variable'] = \"Conté les metadades mínimes obligatòries\"\n",
    "df.loc[3,'Valor'] = Min_medata\n",
    "\n",
    "df.loc[4,'Variable'] = \"Almenys un/a dels/les autors/es pertany a la institució on es diposita\"\n",
    "df.loc[4,'Valor'] = afilicion_universidad[0]\n",
    "\n",
    "df.loc[5,'Variable'] = \"S’usa la forma inversa: Cognom, Nom\"\n",
    "df.loc[5,'Valor'] = cognom_nome\n",
    "\n",
    "df.loc[6,'Variable'] = \"Almenys un/a dels/les autors/es informa del seu ORCID\"\n",
    "df.loc[6,'Valor'] = ddois[0]\n",
    "\n",
    "df.loc[7,'Variable'] = \"El camp descripció és suficient\"\n",
    "df.loc[7,'Valor'] = DESCRIPTION\n",
    "\n",
    "df.loc[8,'Variable'] = \"Els fitxers tenen error d'ingesta\"\n",
    "df.loc[8,'Valor'] = ERROR_INGESTA\n",
    " \n",
    "df.loc[9,'Variable'] = \"El dataset conté el fitxer Readme.txt\"\n",
    "\n",
    "\n",
    "\n",
    "df.loc[10,'Variable'] = \"El fitxer Readme.txt informa del contingut de les dades (etiquetes de variables i de valor, unitats de mesura, etc.)\"\n",
    "\n",
    "df.loc[11,'Variable'] = \"Segueixen les bones pràctiques d’anomenar i organitzar\"\n",
    "\n",
    "df.loc[12,'Variable'] = \"Els formats de fitxers dipositats són els preferits\"\n",
    "\n",
    "df.loc[13,'Variable'] = \"La llicència està definida\"\n",
    "\n",
    "df.loc[14,'Variable'] = \"Percentatge de FAIRness que aplica l’eina F-UJI\""
   ]
  },
  {
   "cell_type": "code",
   "execution_count": 371,
   "id": "6256031a-526e-465b-8e98-7117074fef36",
   "metadata": {},
   "outputs": [
    {
     "data": {
      "text/html": [
       "<div>\n",
       "<style scoped>\n",
       "    .dataframe tbody tr th:only-of-type {\n",
       "        vertical-align: middle;\n",
       "    }\n",
       "\n",
       "    .dataframe tbody tr th {\n",
       "        vertical-align: top;\n",
       "    }\n",
       "\n",
       "    .dataframe thead th {\n",
       "        text-align: right;\n",
       "    }\n",
       "</style>\n",
       "<table border=\"1\" class=\"dataframe\">\n",
       "  <thead>\n",
       "    <tr style=\"text-align: right;\">\n",
       "      <th></th>\n",
       "      <th>Variable</th>\n",
       "      <th>Valor</th>\n",
       "    </tr>\n",
       "  </thead>\n",
       "  <tbody>\n",
       "    <tr>\n",
       "      <th>0</th>\n",
       "      <td>Dataset DOI</td>\n",
       "      <td>doi:10.34810/data238</td>\n",
       "    </tr>\n",
       "    <tr>\n",
       "      <th>1</th>\n",
       "      <td>Títol del dataset</td>\n",
       "      <td>Inventario de desprendimientos de rocas en Esp...</td>\n",
       "    </tr>\n",
       "    <tr>\n",
       "      <th>2</th>\n",
       "      <td>Institució</td>\n",
       "      <td>Universitat Politècnica de Catalunya</td>\n",
       "    </tr>\n",
       "    <tr>\n",
       "      <th>3</th>\n",
       "      <td>Conté les metadades mínimes obligatòries</td>\n",
       "      <td>True</td>\n",
       "    </tr>\n",
       "    <tr>\n",
       "      <th>4</th>\n",
       "      <td>Almenys un/a dels/les autors/es pertany a la i...</td>\n",
       "      <td>True</td>\n",
       "    </tr>\n",
       "    <tr>\n",
       "      <th>5</th>\n",
       "      <td>S’usa la forma inversa: Cognom, Nom</td>\n",
       "      <td>True</td>\n",
       "    </tr>\n",
       "    <tr>\n",
       "      <th>6</th>\n",
       "      <td>Almenys un/a dels/les autors/es informa del se...</td>\n",
       "      <td>True</td>\n",
       "    </tr>\n",
       "    <tr>\n",
       "      <th>7</th>\n",
       "      <td>El camp descripció és suficient</td>\n",
       "      <td>True</td>\n",
       "    </tr>\n",
       "    <tr>\n",
       "      <th>8</th>\n",
       "      <td>Els fitxers tenen error d'ingesta</td>\n",
       "      <td>False</td>\n",
       "    </tr>\n",
       "    <tr>\n",
       "      <th>9</th>\n",
       "      <td>El dataset conté el fitxer Readme.txt</td>\n",
       "      <td>NaN</td>\n",
       "    </tr>\n",
       "    <tr>\n",
       "      <th>10</th>\n",
       "      <td>El fitxer Readme.txt informa del contingut de ...</td>\n",
       "      <td>NaN</td>\n",
       "    </tr>\n",
       "    <tr>\n",
       "      <th>11</th>\n",
       "      <td>Segueixen les bones pràctiques d’anomenar i or...</td>\n",
       "      <td>NaN</td>\n",
       "    </tr>\n",
       "    <tr>\n",
       "      <th>12</th>\n",
       "      <td>Els formats de fitxers dipositats són els pref...</td>\n",
       "      <td>NaN</td>\n",
       "    </tr>\n",
       "    <tr>\n",
       "      <th>13</th>\n",
       "      <td>La llicència està definida</td>\n",
       "      <td>NaN</td>\n",
       "    </tr>\n",
       "    <tr>\n",
       "      <th>14</th>\n",
       "      <td>Percentatge de FAIRness que aplica l’eina F-UJI</td>\n",
       "      <td>NaN</td>\n",
       "    </tr>\n",
       "  </tbody>\n",
       "</table>\n",
       "</div>"
      ],
      "text/plain": [
       "                                             Variable  \\\n",
       "0                                         Dataset DOI   \n",
       "1                                   Títol del dataset   \n",
       "2                                          Institució   \n",
       "3            Conté les metadades mínimes obligatòries   \n",
       "4   Almenys un/a dels/les autors/es pertany a la i...   \n",
       "5                 S’usa la forma inversa: Cognom, Nom   \n",
       "6   Almenys un/a dels/les autors/es informa del se...   \n",
       "7                     El camp descripció és suficient   \n",
       "8                   Els fitxers tenen error d'ingesta   \n",
       "9               El dataset conté el fitxer Readme.txt   \n",
       "10  El fitxer Readme.txt informa del contingut de ...   \n",
       "11  Segueixen les bones pràctiques d’anomenar i or...   \n",
       "12  Els formats de fitxers dipositats són els pref...   \n",
       "13                         La llicència està definida   \n",
       "14    Percentatge de FAIRness que aplica l’eina F-UJI   \n",
       "\n",
       "                                                Valor  \n",
       "0                                doi:10.34810/data238  \n",
       "1   Inventario de desprendimientos de rocas en Esp...  \n",
       "2                Universitat Politècnica de Catalunya  \n",
       "3                                                True  \n",
       "4                                                True  \n",
       "5                                                True  \n",
       "6                                                True  \n",
       "7                                                True  \n",
       "8                                               False  \n",
       "9                                                 NaN  \n",
       "10                                                NaN  \n",
       "11                                                NaN  \n",
       "12                                                NaN  \n",
       "13                                                NaN  \n",
       "14                                                NaN  "
      ]
     },
     "execution_count": 371,
     "metadata": {},
     "output_type": "execute_result"
    }
   ],
   "source": [
    "df"
   ]
  },
  {
   "cell_type": "code",
   "execution_count": 347,
   "id": "5dd6c874-e199-417a-8413-c044e17288ac",
   "metadata": {},
   "outputs": [],
   "source": [
    "outputfile = DOI[-7:]+'.xlsx'\n",
    "df.to_excel(\"data100.xlsx\", index = False)"
   ]
  },
  {
   "cell_type": "code",
   "execution_count": 80,
   "id": "9ba7b49e-ead5-48c7-afe7-4a489919bff7",
   "metadata": {},
   "outputs": [
    {
     "name": "stdout",
     "output_type": "stream",
     "text": [
      "8923\n"
     ]
    }
   ],
   "source": [
    "from pyDataverse.api import NativeApi, DataAccessApi\n",
    "from pyDataverse.models import Dataverse\n",
    "import pandas as pd\n",
    "\n",
    "### Parametros\n",
    "DOI = 'doi:10.34810/data148' # DOI a REVISAR\n",
    "INSTITUCION = \"Institut de Recerca contra la Leucèmia Josep Carreras\"# Nom de la Institució\n",
    "\n",
    "#########\n",
    "base_url = 'https://dataverse.csuc.cat'\n",
    "\n",
    "api = NativeApi(base_url,'a0f549c3-59c2-4aab-be62-803df461f630')\n",
    "\n",
    "\n",
    "dataset = api.get_dataset(DOI)\n",
    "files_list = dataset.json()['data']['latestVersion']['metadataBlocks']['citation']['fields'][0][\"value\"]\n",
    "\n",
    "print(dataset.json()['data']['latestVersion'][\"files\"][0]['dataFile'][\"id\"])\n",
    "\n",
    "    "
   ]
  },
  {
   "cell_type": "code",
   "execution_count": 81,
   "id": "94389a7c-5706-4ba0-acb0-ea7fbf578abc",
   "metadata": {},
   "outputs": [
    {
     "name": "stdout",
     "output_type": "stream",
     "text": [
      "8923\n",
      "8920\n",
      "46780\n"
     ]
    }
   ],
   "source": [
    "for i in range(len(dataset.json()['data']['latestVersion'][\"files\"])):\n",
    "    print(dataset.json()['data']['latestVersion'][\"files\"][i]['dataFile'][\"id\"])"
   ]
  },
  {
   "cell_type": "code",
   "execution_count": 343,
   "id": "8e4e58d9-e732-4269-8dda-6995e6cee2fa",
   "metadata": {},
   "outputs": [
    {
     "name": "stdout",
     "output_type": "stream",
     "text": [
      "data100.xlsx\n"
     ]
    }
   ],
   "source": []
  },
  {
   "cell_type": "code",
   "execution_count": null,
   "id": "bd36c1ae-8ec6-4d9e-929c-b31e941fc715",
   "metadata": {},
   "outputs": [],
   "source": []
  }
 ],
 "metadata": {
  "kernelspec": {
   "display_name": "Python 3 (ipykernel)",
   "language": "python",
   "name": "python3"
  },
  "language_info": {
   "codemirror_mode": {
    "name": "ipython",
    "version": 3
   },
   "file_extension": ".py",
   "mimetype": "text/x-python",
   "name": "python",
   "nbconvert_exporter": "python",
   "pygments_lexer": "ipython3",
   "version": "3.11.1"
  }
 },
 "nbformat": 4,
 "nbformat_minor": 5
}
